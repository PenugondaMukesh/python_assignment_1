{
 "cells": [
  {
   "cell_type": "markdown",
   "id": "b6237dbd-cace-4ae4-a985-77108ee6faa7",
   "metadata": {},
   "source": [
    "1)  \n",
    "   'hello',-87.8,6 are values.   \n",
    "   *,-,/,+ are expressions\n",
    "      "
   ]
  },
  {
   "cell_type": "markdown",
   "id": "74bc5446-290b-43bb-94a0-03837f96e28b",
   "metadata": {},
   "source": [
    "2)String datatype represents sequence of characters,where as variable datatype  is a named storage location that can holds different data,including strings.Strings are usually enclosed in quotation marks, either single or double.\n",
    "          Example for string:  my_string=\"Hello world\".\n",
    "          Example for variable: my_variable=48."
   ]
  },
  {
   "cell_type": "markdown",
   "id": "9b815c6a-b659-4930-9717-c38b8592e194",
   "metadata": {},
   "source": [
    "3)Integer(int): It represents whole numbers without decimal points.It can be any value either positive or negative including zero.we can do \n",
    "           arithmetic operations on integer type data type like addition,subtraction,division etc...\n",
    "           Example = 42,0,-48\n",
    "  Floating point number(float): It represents numbers with decimal points.It can store both integers and fractional numbers.\n",
    "           Example = 3.14,-0.5\n",
    "  String(str): String datatype represents sequence of characters.Strings are usually enclosed in quotation marks, either single or double.\n",
    "            Example for string:  my_string=\"Hello world\"."
   ]
  },
  {
   "cell_type": "markdown",
   "id": "831bc1e2-cd67-4ada-8957-ede9370023aa",
   "metadata": {},
   "source": [
    "4)An expression is made up of one or more operands and operators.An operand represents a value or a variable, while an operator performs an operation on the operands.\n",
    "       Examples of expressions: result= 2+3*5\n",
    "            Here 2,3 and 5 are operands where as +,* are operators\n",
    "All expressions in a programming language evaluate to a value. They can be used to perform calculations, manipulate data, make decisions, and control program flow."
   ]
  },
  {
   "cell_type": "markdown",
   "id": "1bbeb344-2f57-4c44-bdf3-6ed4a007825a",
   "metadata": {},
   "source": [
    "5)Expression: An expression is a combination of operators and operands that evaluates to a value.It represents a computation and produces a result. Examples of expressions include mathematical calculations,string concatanation.\n",
    "     Examples:  x=2+3\n",
    "                y=\"Hello \" + \"world\"\n",
    "  Statement: A statement is a complete instruction or action that performs a specific task in a program. Statements can include variable assignments, control flow structures.\n",
    "     Example: spam = 10\n",
    "              if x > 5:\n",
    "                  print(\"x is greater than 5\")\n",
    "         In the above examples, 'spam = 10' is an assignment statement that assigns the value '10' to the variable 'spam'. The 'if' statement is a control flow statement that checks the condition 'x > 5' and executes the nested 'print()' statement if the condition is true."
   ]
  },
  {
   "cell_type": "markdown",
   "id": "acf66d19-5191-4ddc-b00b-edbc2877633b",
   "metadata": {},
   "source": [
    "6)The variable bacon will still contain the value 22."
   ]
  },
  {
   "cell_type": "markdown",
   "id": "f181ad40-9082-4cbc-8661-643eb2ac1bf2",
   "metadata": {},
   "source": [
    "7)   The value of 'spam' + 'spamspam' is 'spamspamspam' that means spam repeats 3 times.\n",
    "     The value of 'spam'*3 is 'spamspamspam' that means spam represents 3 times."
   ]
  },
  {
   "cell_type": "markdown",
   "id": "8e28bd45-5859-4907-a062-5fb81742944e",
   "metadata": {},
   "source": [
    "8) A valid variable consists of letters either small or capital,numbers,underscore(_).The first character of a variable name cannot be a digit.Actually in the 'eggs' the letters of the word consists of all small letters and not starting with any digits or numbers,so that 'eggs' is a valid variable name whereas 100 is invalid because it is starting with digits which is invalid variable name. so therefore eggs a valid variable name while 100 is invalid variable name."
   ]
  },
  {
   "cell_type": "markdown",
   "id": "096d3183-6a58-4630-8359-95ed3d949e8a",
   "metadata": {},
   "source": [
    "9)Three functions can be used to get the integer, floating-point number, or string version of a value are 'int()','float()','str()' respectively.\n",
    "      Examples :value = \"42\"\n",
    "                integer_value = int(value)\n",
    "                print(integer_value)  \n",
    "          # Output: 42\n",
    "                 value = \"3.14\"\n",
    "                 float_value = float(value)\n",
    "                 print(float_value)  \n",
    "          # Output: 3.14\n",
    "                 value = 42\n",
    "                 string_value = str(value)\n",
    "                 print(string_value)  \n",
    "          # Output: \"42\""
   ]
  },
  {
   "cell_type": "markdown",
   "id": "f8df156e-4032-4ab7-bd5f-a93a3af3d59b",
   "metadata": {},
   "source": [
    "10)The expression 'I have eaten ' + 99 + ' burritos.' causes an error because it try to concatenate a string ('I have eaten ') with an integer (99) directly. In Python, the '+' operator is used for concatenating strings, but it cannot directly concatenate a string with a non-string value like an integer. To fix the error, you need to ensure that all values being concatenated are of the string data type.\n",
    "we can achieve by making 99 as string using 'str()' function.\n",
    "      Therefore required code is   'I have eaten ' + str(99) + ' burritos.'\n"
   ]
  }
 ],
 "metadata": {
  "kernelspec": {
   "display_name": "Python 3 (ipykernel)",
   "language": "python",
   "name": "python3"
  },
  "language_info": {
   "codemirror_mode": {
    "name": "ipython",
    "version": 3
   },
   "file_extension": ".py",
   "mimetype": "text/x-python",
   "name": "python",
   "nbconvert_exporter": "python",
   "pygments_lexer": "ipython3",
   "version": "3.10.6"
  }
 },
 "nbformat": 4,
 "nbformat_minor": 5
}
